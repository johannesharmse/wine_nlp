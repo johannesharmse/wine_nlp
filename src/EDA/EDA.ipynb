{
 "cells": [
  {
   "cell_type": "code",
   "execution_count": 1,
   "metadata": {},
   "outputs": [],
   "source": [
    "import pandas as pd\n",
    "import string\n",
    "# from glove import Gl/ove"
   ]
  },
  {
   "cell_type": "code",
   "execution_count": 2,
   "metadata": {},
   "outputs": [
    {
     "name": "stdout",
     "output_type": "stream",
     "text": [
      "Number of entries in dataset 1: 150930\n",
      "Number of entries in dataset 2: 129971\n",
      "\n",
      "Number of duplicate entries across datasets: 48346\n",
      "\n",
      "Number of unique reviews: 169461\n"
     ]
    },
    {
     "data": {
      "text/html": [
       "<div>\n",
       "<style scoped>\n",
       "    .dataframe tbody tr th:only-of-type {\n",
       "        vertical-align: middle;\n",
       "    }\n",
       "\n",
       "    .dataframe tbody tr th {\n",
       "        vertical-align: top;\n",
       "    }\n",
       "\n",
       "    .dataframe thead th {\n",
       "        text-align: right;\n",
       "    }\n",
       "</style>\n",
       "<table border=\"1\" class=\"dataframe\">\n",
       "  <thead>\n",
       "    <tr style=\"text-align: right;\">\n",
       "      <th></th>\n",
       "      <th>description</th>\n",
       "      <th>points</th>\n",
       "    </tr>\n",
       "  </thead>\n",
       "  <tbody>\n",
       "    <tr>\n",
       "      <th>0</th>\n",
       "      <td>This tremendous 100% varietal wine hails from ...</td>\n",
       "      <td>96</td>\n",
       "    </tr>\n",
       "    <tr>\n",
       "      <th>1</th>\n",
       "      <td>Ripe aromas of fig, blackberry and cassis are ...</td>\n",
       "      <td>96</td>\n",
       "    </tr>\n",
       "    <tr>\n",
       "      <th>2</th>\n",
       "      <td>Mac Watson honors the memory of a wine once ma...</td>\n",
       "      <td>96</td>\n",
       "    </tr>\n",
       "    <tr>\n",
       "      <th>3</th>\n",
       "      <td>This spent 20 months in 30% new French oak, an...</td>\n",
       "      <td>96</td>\n",
       "    </tr>\n",
       "    <tr>\n",
       "      <th>4</th>\n",
       "      <td>This is the top wine from La Bégude, named aft...</td>\n",
       "      <td>95</td>\n",
       "    </tr>\n",
       "  </tbody>\n",
       "</table>\n",
       "</div>"
      ],
      "text/plain": [
       "                                         description  points\n",
       "0  This tremendous 100% varietal wine hails from ...      96\n",
       "1  Ripe aromas of fig, blackberry and cassis are ...      96\n",
       "2  Mac Watson honors the memory of a wine once ma...      96\n",
       "3  This spent 20 months in 30% new French oak, an...      96\n",
       "4  This is the top wine from La Bégude, named aft...      95"
      ]
     },
     "execution_count": 2,
     "metadata": {},
     "output_type": "execute_result"
    }
   ],
   "source": [
    "# columns to use\n",
    "cols=['description', 'points']\n",
    "\n",
    "# import data\n",
    "reviews_1 = pd.read_csv('../../data/wine-reviews/winemag-data_first150k.csv', index_col=False, usecols=cols)\n",
    "reviews_2 = pd.read_csv('../../data/wine-reviews/winemag-data-130k-v2.csv', index_col=False, usecols=cols)\n",
    "\n",
    "print(\"Number of entries in dataset 1: %s\" %reviews_1.shape[0])\n",
    "print(\"Number of entries in dataset 2: %s\" %reviews_2.shape[0])\n",
    "\n",
    "duplicates = set(reviews_1.description).intersection(set(reviews_2.description))\n",
    "\n",
    "print(\"\\nNumber of duplicate entries across datasets: %s\" % len(duplicates))\n",
    "\n",
    "# concatenate and drop duplicates\n",
    "data = pd.concat([reviews_1,reviews_2])\n",
    "data.drop_duplicates(inplace=True)\n",
    "\n",
    "print(\"\\nNumber of unique reviews: %s\" % data.shape[0])\n",
    "\n",
    "data.head()"
   ]
  },
  {
   "cell_type": "code",
   "execution_count": 4,
   "metadata": {},
   "outputs": [],
   "source": [
    "punc_remove = string.punctuation\n",
    "punc_remove = punc_remove.replace('%', '')\n",
    "table = str.maketrans(dict.fromkeys(punc_remove))\n",
    "\n",
    "# lowercase\n",
    "data['description_test'] = data.description.str.lower()\n",
    "# remove punctuation\n",
    "data['description_test'] = data.description_test.str.translate(table)\n",
    "# replace percentage sign\n",
    "data['description_test'] = data.description_test.str.replace('%', ' percent')\n",
    "# split words\n",
    "data['description_test'] = data.description_test.str.split()"
   ]
  },
  {
   "cell_type": "code",
   "execution_count": 5,
   "metadata": {},
   "outputs": [
    {
     "data": {
      "text/html": [
       "<div>\n",
       "<style scoped>\n",
       "    .dataframe tbody tr th:only-of-type {\n",
       "        vertical-align: middle;\n",
       "    }\n",
       "\n",
       "    .dataframe tbody tr th {\n",
       "        vertical-align: top;\n",
       "    }\n",
       "\n",
       "    .dataframe thead th {\n",
       "        text-align: right;\n",
       "    }\n",
       "</style>\n",
       "<table border=\"1\" class=\"dataframe\">\n",
       "  <thead>\n",
       "    <tr style=\"text-align: right;\">\n",
       "      <th></th>\n",
       "      <th>description</th>\n",
       "      <th>points</th>\n",
       "      <th>description_test</th>\n",
       "    </tr>\n",
       "  </thead>\n",
       "  <tbody>\n",
       "    <tr>\n",
       "      <th>0</th>\n",
       "      <td>This tremendous 100% varietal wine hails from ...</td>\n",
       "      <td>96</td>\n",
       "      <td>[this, tremendous, 100, percent, varietal, win...</td>\n",
       "    </tr>\n",
       "    <tr>\n",
       "      <th>1</th>\n",
       "      <td>Ripe aromas of fig, blackberry and cassis are ...</td>\n",
       "      <td>96</td>\n",
       "      <td>[ripe, aromas, of, fig, blackberry, and, cassi...</td>\n",
       "    </tr>\n",
       "    <tr>\n",
       "      <th>2</th>\n",
       "      <td>Mac Watson honors the memory of a wine once ma...</td>\n",
       "      <td>96</td>\n",
       "      <td>[mac, watson, honors, the, memory, of, a, wine...</td>\n",
       "    </tr>\n",
       "    <tr>\n",
       "      <th>3</th>\n",
       "      <td>This spent 20 months in 30% new French oak, an...</td>\n",
       "      <td>96</td>\n",
       "      <td>[this, spent, 20, months, in, 30, percent, new...</td>\n",
       "    </tr>\n",
       "    <tr>\n",
       "      <th>4</th>\n",
       "      <td>This is the top wine from La Bégude, named aft...</td>\n",
       "      <td>95</td>\n",
       "      <td>[this, is, the, top, wine, from, la, bégude, n...</td>\n",
       "    </tr>\n",
       "  </tbody>\n",
       "</table>\n",
       "</div>"
      ],
      "text/plain": [
       "                                         description  points  \\\n",
       "0  This tremendous 100% varietal wine hails from ...      96   \n",
       "1  Ripe aromas of fig, blackberry and cassis are ...      96   \n",
       "2  Mac Watson honors the memory of a wine once ma...      96   \n",
       "3  This spent 20 months in 30% new French oak, an...      96   \n",
       "4  This is the top wine from La Bégude, named aft...      95   \n",
       "\n",
       "                                    description_test  \n",
       "0  [this, tremendous, 100, percent, varietal, win...  \n",
       "1  [ripe, aromas, of, fig, blackberry, and, cassi...  \n",
       "2  [mac, watson, honors, the, memory, of, a, wine...  \n",
       "3  [this, spent, 20, months, in, 30, percent, new...  \n",
       "4  [this, is, the, top, wine, from, la, bégude, n...  "
      ]
     },
     "execution_count": 5,
     "metadata": {},
     "output_type": "execute_result"
    }
   ],
   "source": [
    "data.head()"
   ]
  },
  {
   "cell_type": "code",
   "execution_count": 6,
   "metadata": {},
   "outputs": [
    {
     "name": "stderr",
     "output_type": "stream",
     "text": [
      "/home/jharmse/anaconda3/lib/python3.6/site-packages/h5py/__init__.py:36: FutureWarning: Conversion of the second argument of issubdtype from `float` to `np.floating` is deprecated. In future, it will be treated as `np.float64 == np.dtype(float).type`.\n",
      "  from ._conv import register_converters as _register_converters\n"
     ]
    }
   ],
   "source": [
    "import tensorflow as tf\n",
    "import numpy as np\n",
    "import collections\n",
    "from collections import Counter\n",
    "import math\n",
    "import random"
   ]
  },
  {
   "cell_type": "code",
   "execution_count": 7,
   "metadata": {},
   "outputs": [
    {
     "name": "stdout",
     "output_type": "stream",
     "text": [
      "Number of unique words: 58541\n"
     ]
    }
   ],
   "source": [
    "def create_vocabulary(documents):\n",
    "    \"\"\"Unique words and counts\"\"\"\n",
    "    vocabulary = Counter()\n",
    "\n",
    "    for row in documents:\n",
    "        vocabulary.update(row)\n",
    "        \n",
    "    return vocabulary\n",
    "\n",
    "documents = list(data.description_test)\n",
    "vocabulary = create_vocabulary(documents)\n",
    "vocabulary_size = len(vocabulary)\n",
    "\n",
    "print(\"Number of unique words: %s\" % vocabulary_size)"
   ]
  },
  {
   "cell_type": "code",
   "execution_count": 8,
   "metadata": {},
   "outputs": [],
   "source": [
    "def top_vocabulary(vocabulary, n_words=10000):\n",
    "    \"\"\"Limit vocabulary to highest occurring words and create IDs.\"\"\"\n",
    "    vocabulary_n = list(dict(vocabulary.most_common(n_words - 1)).keys())\n",
    "    vocabulary_n.append('UNK') # placeholder for rare words\n",
    "    \n",
    "    vocabulary_n = dict(zip(vocabulary_n, random.sample(range(0, n_words+1), n_words)))\n",
    "            \n",
    "    return vocabulary_n\n",
    "\n",
    "vocabulary_n = top_vocabulary(vocabulary)"
   ]
  },
  {
   "cell_type": "code",
   "execution_count": 9,
   "metadata": {},
   "outputs": [],
   "source": [
    "def map_vocabulary(vocabulary, map_table):\n",
    "    \"\"\"Map vocabulary words to IDs\"\"\"\n",
    "    vocabulary_map_table = dict.fromkeys(vocabulary.keys(), 0)\n",
    "    for word in vocabulary:\n",
    "        if word not in map_table:\n",
    "            vocabulary_map_table[word] = map_table['UNK']\n",
    "        else:\n",
    "            vocabulary_map_table[word] = map_table[word]\n",
    "            \n",
    "    return vocabulary_map_table\n",
    "    \n",
    "vocabulary_map_table = map_vocabulary(vocabulary, vocabulary_n)"
   ]
  },
  {
   "cell_type": "code",
   "execution_count": 10,
   "metadata": {},
   "outputs": [],
   "source": [
    "def map_documents(documents, vocabulary_map_table):\n",
    "    \"\"\"Map documents to integer word IDs\"\"\"\n",
    "    documents_mapped = [[vocabulary_map_table[word] for word in doc] for doc in documents]\n",
    "    \n",
    "    return documents_mapped\n",
    "    \n",
    "documents_mapped = map_documents(documents, vocabulary_map_table)         "
   ]
  },
  {
   "cell_type": "code",
   "execution_count": 11,
   "metadata": {},
   "outputs": [],
   "source": [
    "review_index = 0 # keep track of training batches\n",
    "word_index = 0\n",
    "total_num_words = sum([len(doc) for doc in documents_mapped])"
   ]
  },
  {
   "cell_type": "code",
   "execution_count": 12,
   "metadata": {},
   "outputs": [
    {
     "data": {
      "text/plain": [
       "6868514"
      ]
     },
     "execution_count": 12,
     "metadata": {},
     "output_type": "execute_result"
    }
   ],
   "source": [
    "total_num_words"
   ]
  },
  {
   "cell_type": "code",
   "execution_count": 13,
   "metadata": {},
   "outputs": [],
   "source": [
    "def generate_batch(documents_mapped, batch_size, num_skips, skip_window):\n",
    "    \n",
    "    global review_index\n",
    "    global word_index\n",
    "    \n",
    "    batch = np.ndarray(shape=(batch_size), dtype=np.int32)\n",
    "    labels = np.ndarray(shape=(batch_size, 1), dtype=np.int32)\n",
    "    \n",
    "    # span considers window on both sides of target word\n",
    "    # we could potentially consider a full sentence or review\n",
    "    # as the context, but keeping it simpler for now\n",
    "    span = 2 * skip_window + 1 \n",
    "    \n",
    "    # init buffer (context and target words)\n",
    "    buffer = collections.deque(maxlen=span)\n",
    "    \n",
    "    # go back to first review if no more reviews left\n",
    "    if review_index >= len(documents_mapped):\n",
    "        review_index = 0\n",
    "    \n",
    "    # make sure there are enough words for skip-gram\n",
    "    # could consider moving to next review instead of recycling words\n",
    "    if word_index + span > len(documents_mapped[word_index]):\n",
    "        word_index = len(documents_mapped[word_index]) - span\n",
    "    \n",
    "    # new skip-gram\n",
    "    buffer.extend(documents_mapped[review_index][word_index:word_index + span])\n",
    "        \n",
    "    for i in range(batch_size // num_skips):\n",
    "        # skip_window is the same as index of target word\n",
    "        context_words = [w for w in range(span) if w != skip_window]\n",
    "        # randomly select context word indices to use\n",
    "        words_to_use = random.sample(context_words, num_skips)\n",
    "        for j, context_word in enumerate(words_to_use):\n",
    "            # target word\n",
    "            batch[i * num_skips + j] = buffer[skip_window]\n",
    "            # context word\n",
    "            labels[i * num_skips + j, 0] = buffer[context_word]\n",
    "        \n",
    "        # add next words / new review for skips\n",
    "        if word_index + span == len(documents_mapped[word_index]):\n",
    "            # next review\n",
    "            word_index = 0\n",
    "            review_index += 1\n",
    "            # start at the beginning if non left\n",
    "            if review_index >= len(documents_mapped):\n",
    "                review_index = 0\n",
    "            \n",
    "            buffer.extend(documents_mapped[review_index][word_index:word_index + span])\n",
    "            \n",
    "            word_index += span\n",
    "        else:\n",
    "            # add next word in review\n",
    "            buffer.append(documents_mapped[review_index][word_index])\n",
    "            word_index += 1\n",
    "            \n",
    "    return batch, labels\n",
    "            \n",
    "batch_size = 50\n",
    "num_skips = 5\n",
    "skip_window = 3\n",
    "test_batch, test_labels = generate_batch(documents_mapped, batch_size, num_skips, skip_window)       "
   ]
  },
  {
   "cell_type": "code",
   "execution_count": 14,
   "metadata": {},
   "outputs": [],
   "source": [
    "assert test_batch.shape[0] == batch_size"
   ]
  },
  {
   "cell_type": "code",
   "execution_count": 15,
   "metadata": {},
   "outputs": [
    {
     "name": "stdout",
     "output_type": "stream",
     "text": [
      "Target sample:\n",
      "[6933 6933 6933 6933 6933 7949 7949 7949 7949 7949]\n",
      "\n",
      "Context Sample:\n",
      "[[4203]\n",
      " [5354]\n",
      " [7479]\n",
      " [6098]\n",
      " [1098]\n",
      " [1098]\n",
      " [7479]\n",
      " [6933]\n",
      " [4203]\n",
      " [6098]]\n"
     ]
    }
   ],
   "source": [
    "print(\"Target sample:\")\n",
    "print(test_batch[:10])\n",
    "print(\"\\nContext Sample:\")\n",
    "print(test_labels[:10])"
   ]
  },
  {
   "cell_type": "code",
   "execution_count": 16,
   "metadata": {},
   "outputs": [],
   "source": [
    "embedding_size = 64\n",
    "\n",
    "batch_size = 50\n",
    "num_skips = 5\n",
    "skip_window = 3\n",
    "\n",
    "num_sampled = 32 # number of negative examples to sample"
   ]
  },
  {
   "cell_type": "code",
   "execution_count": 17,
   "metadata": {},
   "outputs": [],
   "source": [
    "graph = tf.Graph()\n",
    "\n",
    "with graph.as_default():\n",
    "    \n",
    "    # input data\n",
    "    with tf.name_scope('inputs'):\n",
    "        train_inputs = tf.placeholder(tf.int32, shape=batch_size) # target\n",
    "        train_labels = tf.placeholder(tf.int32, shape=[batch_size, 1]) # context (what we want to predict)\n",
    "        \n",
    "    with tf.name_scope('embeddings'):\n",
    "        # embedding weights\n",
    "        embeddings = tf.Variable(\n",
    "            tf.random_uniform([vocabulary_size, embedding_size], -1.0, 1.0))\n",
    "        embed = tf.nn.embedding_lookup(embeddings, train_inputs)\n",
    "    \n",
    "    # hidden layer weights\n",
    "    with tf.name_scope('weights'):\n",
    "        nce_weights = tf.Variable(tf.truncated_normal([vocabulary_size, embedding_size],\n",
    "                      stddev=1.0 / math.sqrt(embedding_size)))\n",
    "    # hidden layers biases\n",
    "    with tf.name_scope('biases'):\n",
    "        nce_biases = tf.Variable(tf.zeros([vocabulary_size]))\n",
    "        \n",
    "    # NCE because softmax is too expensive\n",
    "    # is it a good or a corrupt pair (context and target)?\n",
    "    with tf.name_scope('loss'):\n",
    "        loss = tf.reduce_mean(\n",
    "            tf.nn.nce_loss(\n",
    "                weights=nce_weights, \n",
    "                biases=nce_biases, \n",
    "                labels=train_labels, \n",
    "                inputs=embed, \n",
    "                num_sampled=num_sampled, \n",
    "                num_classes=vocabulary_size))\n",
    "        \n",
    "    # for viz\n",
    "    tf.summary.scalar('loss', loss)\n",
    "    \n",
    "    # SGD - minimize loss on train data (see loss above)\n",
    "    # Learning Rate = 1.0 (don't care about overfitting)\n",
    "    with tf.name_scope('optimizer'):\n",
    "        optimizer = tf.train.GradientDescentOptimizer(1.0).minimize(loss)\n",
    "    \n",
    "    norm = tf.sqrt(tf.reduce_sum(tf.square(embeddings), 1, keepdims=True))\n",
    "    normalized_embeddings = embeddings / norm\n",
    "#     valid_embeddings = tf.nn.embedding_lookup(normalized_embeddings, valid)\n",
    "\n",
    "    # summary data\n",
    "    merged = tf.summary.merge_all()\n",
    "    \n",
    "    # init variables\n",
    "    init = tf.global_variables_initializer()\n",
    "    \n",
    "    # saver\n",
    "    saver = tf.train.Saver()    "
   ]
  },
  {
   "cell_type": "code",
   "execution_count": 18,
   "metadata": {},
   "outputs": [
    {
     "name": "stdout",
     "output_type": "stream",
     "text": [
      "Initialized\n",
      "Average loss at step 0 :  161.9163055419922\n",
      "Average loss at step 200 :  113.09082027435302\n",
      "Average loss at step 400 :  90.1000018880844\n",
      "Average loss at step 600 :  81.30094110288525\n",
      "Average loss at step 800 :  73.31926877793263\n",
      "Average loss at step 1000 :  64.96129762925192\n",
      "Average loss at step 1200 :  64.43659611045308\n",
      "Average loss at step 1400 :  59.76685992814595\n",
      "Average loss at step 1600 :  55.255950207309795\n",
      "Average loss at step 1800 :  54.754978213284396\n",
      "Average loss at step 2000 :  52.84139344708907\n",
      "Average loss at step 2200 :  48.539830766015584\n",
      "Average loss at step 2400 :  46.23245356362012\n",
      "Average loss at step 2600 :  43.10751032065319\n",
      "Average loss at step 2800 :  44.14604946606465\n",
      "Average loss at step 3000 :  42.117471801713506\n",
      "Average loss at step 3200 :  40.18665577291576\n",
      "Average loss at step 3400 :  37.84275298596393\n",
      "Average loss at step 3600 :  37.03892076864759\n",
      "Average loss at step 3800 :  34.40651633775848\n",
      "Average loss at step 4000 :  33.530459728480736\n",
      "Average loss at step 4200 :  30.398986141949045\n",
      "Average loss at step 4400 :  33.243249138904766\n",
      "Average loss at step 4600 :  28.794330456925525\n",
      "Average loss at step 4800 :  28.546611176103717\n",
      "Average loss at step 5000 :  29.904784976891815\n",
      "Average loss at step 5200 :  29.03921660865152\n",
      "Average loss at step 5400 :  26.160331369833575\n",
      "Average loss at step 5600 :  27.25728627981846\n",
      "Average loss at step 5800 :  26.077212144846598\n",
      "Average loss at step 6000 :  25.44033330546572\n",
      "Average loss at step 6200 :  22.698835200622344\n",
      "Average loss at step 6400 :  23.452066903006017\n",
      "Average loss at step 6600 :  23.48743964463474\n",
      "Average loss at step 6800 :  23.810368293515033\n",
      "Average loss at step 7000 :  22.19112328286092\n",
      "Average loss at step 7200 :  21.25257491882121\n",
      "Average loss at step 7400 :  20.208929190022904\n",
      "Average loss at step 7600 :  20.827848776786503\n",
      "Average loss at step 7800 :  18.25367549462341\n",
      "Average loss at step 8000 :  20.377583888870085\n",
      "Average loss at step 8200 :  20.61449628731957\n",
      "Average loss at step 8400 :  19.54545114620886\n",
      "Average loss at step 8600 :  19.117266647415857\n",
      "Average loss at step 8800 :  19.00364145659325\n",
      "Average loss at step 9000 :  16.79862392813081\n",
      "Average loss at step 9200 :  17.20961116980194\n",
      "Average loss at step 9400 :  15.796099587495178\n",
      "Average loss at step 9600 :  16.06576872774825\n",
      "Average loss at step 9800 :  14.172167991206257\n",
      "Average loss at step 10000 :  15.604869961491376\n"
     ]
    }
   ],
   "source": [
    "num_steps = 10001 # number of unique words\n",
    "\n",
    "with tf.Session(graph=graph) as session:\n",
    "    \n",
    "    writer = tf.summary.FileWriter('word2vec', session.graph)\n",
    "    \n",
    "    init.run()\n",
    "    print('Initialized')\n",
    "    \n",
    "    average_loss = 0\n",
    "    \n",
    "    for step in range(num_steps):\n",
    "        batch_inputs, batch_labels = generate_batch(documents_mapped, batch_size, num_skips, skip_window)\n",
    "        feed_dict = {train_inputs: batch_inputs, train_labels: batch_labels}\n",
    "        \n",
    "        run_metadata = tf.RunMetadata()\n",
    "        \n",
    "        _, summary, loss_val = session.run(\n",
    "            [optimizer, merged, loss], \n",
    "            feed_dict=feed_dict, \n",
    "            run_metadata=run_metadata)\n",
    "        \n",
    "        average_loss += loss_val\n",
    "        \n",
    "        writer.add_summary(summary, step)\n",
    "        \n",
    "        if step == (num_steps - 1):\n",
    "            writer.add_run_metadata(run_metadata, 'step%d' % step)\n",
    "            \n",
    "        if step % 200 == 0:\n",
    "            if step > 0:\n",
    "                average_loss /= 200\n",
    "                \n",
    "            print('Average loss at step', step, ': ', average_loss)\n",
    "        \n",
    "    final_embeddings = normalized_embeddings.eval()\n",
    "\n",
    "    saver.save(session, 'word2vec/model.ckpt')\n",
    "    \n",
    "writer.close()"
   ]
  },
  {
   "cell_type": "code",
   "execution_count": 19,
   "metadata": {},
   "outputs": [],
   "source": [
    "from sklearn.manifold import TSNE\n",
    "import matplotlib.pyplot as plt\n",
    "\n",
    "def plot_with_labels(low_dim_embs, labels, filename):\n",
    "    assert low_dim_embs.shape[0] >= len(labels), 'More labels than embeddings'\n",
    "    plt.figure(figsize=(18, 18))  # in inches\n",
    "    for i, label in enumerate(labels):\n",
    "        x, y = low_dim_embs[i, :]\n",
    "        plt.scatter(x, y)\n",
    "        plt.annotate(\n",
    "            label,\n",
    "            xy=(x, y),\n",
    "            xytext=(5, 2),\n",
    "            textcoords='offset points',\n",
    "            ha='right',\n",
    "            va='bottom')\n",
    "\n",
    "    plt.savefig(filename)"
   ]
  },
  {
   "cell_type": "code",
   "execution_count": 20,
   "metadata": {},
   "outputs": [
    {
     "data": {
      "image/png": "[encoded data removed]",
      "text/plain": [
       "<matplotlib.figure.Figure at 0x7fe87aa904e0>"
      ]
     },
     "metadata": {},
     "output_type": "display_data"
    }
   ],
   "source": [
    "tsne = TSNE(perplexity=30, n_components=2, init='pca', n_iter=5000, method='exact')\n",
    "plot_only = 100\n",
    "low_dim_embs = tsne.fit_transform(final_embeddings[:plot_only, :])\n",
    "labels = [list(vocabulary_map_table.keys())[i] for i in range(plot_only)]\n",
    "plot_with_labels(low_dim_embs, labels, 'word2vec/tsne.png')\n",
    "# plt.show()"
   ]
  },
  {
   "cell_type": "code",
   "execution_count": 21,
   "metadata": {},
   "outputs": [],
   "source": [
    "assert final_embeddings.shape[0] == len(vocabulary)"
   ]
  },
  {
   "cell_type": "code",
   "execution_count": 22,
   "metadata": {},
   "outputs": [],
   "source": [
    "# documents_mapped\n",
    "# data.points"
   ]
  },
  {
   "cell_type": "code",
   "execution_count": 23,
   "metadata": {},
   "outputs": [
    {
     "name": "stdout",
     "output_type": "stream",
     "text": [
      "Longest review has 135 words\n",
      "On average review has 40 words\n",
      "95 percent quantile review number of words: 61\n"
     ]
    }
   ],
   "source": [
    "print(\"Longest review has %d words\" % data.description_test.apply(len).max())\n",
    "print(\"On average review has %d words\" % data.description_test.apply(len).mean())\n",
    "\n",
    "# restrict review length\n",
    "print(\"95 percent quantile review number of words: %d\" % data.description_test.apply(len).quantile(0.95))"
   ]
  },
  {
   "cell_type": "code",
   "execution_count": 24,
   "metadata": {},
   "outputs": [],
   "source": [
    "max_review_length = 61"
   ]
  },
  {
   "cell_type": "code",
   "execution_count": 60,
   "metadata": {},
   "outputs": [],
   "source": [
    "train_index = 0\n",
    "test_index = 0\n",
    "\n",
    "def generate_train_batch(documents_mapped, output, batch_size):\n",
    "    \n",
    "    global train_index\n",
    "    \n",
    "    # pad with zeros if necessary\n",
    "    batch = np.zeros(shape=(batch_size, max_review_length), dtype=np.int32)\n",
    "    labels = np.ndarray(shape=(batch_size, 1), dtype=np.int32)\n",
    "    \n",
    "    for i in range(batch_size):\n",
    "        seq_len = min(len(documents_mapped[i]), max_review_length)\n",
    "        batch[i, :seq_len] = documents_mapped[i][:seq_len]\n",
    "        labels[i] = output[i]\n",
    "        train_index += 1\n",
    "        \n",
    "        if train_index >= len(documents_mapped):\n",
    "            train_index = 0\n",
    "            \n",
    "    return batch, labels\n",
    "\n",
    "\n",
    "def generate_test_batch(documents_mapped, output, batch_size):\n",
    "    \n",
    "    global test_index\n",
    "    \n",
    "    batch = np.zeros(shape=(batch_size, max_review_length), dtype=np.int32)\n",
    "    labels = np.ndarray(shape=(batch_size, 1), dtype=np.int32)\n",
    "    \n",
    "    for i in range(batch_size):\n",
    "        seq_len = min(len(documents_mapped[i]), max_review_length)\n",
    "        batch[i, :seq_len] = documents_mapped[i][:seq_len]\n",
    "        labels[i] = output[i]\n",
    "        test_index += 1\n",
    "        \n",
    "        if test_index >= len(documents_mapped):\n",
    "            test_index = 0\n",
    "            \n",
    "    return batch, labels"
   ]
  },
  {
   "cell_type": "code",
   "execution_count": 63,
   "metadata": {},
   "outputs": [],
   "source": [
    "batch_size = 24\n",
    "h_units = 64\n",
    "iterations = 50000\n",
    "learning_rate = 0.01\n",
    "\n",
    "validation_X, validation_y = generate_test_batch(documents_mapped, data.points.values, batch_size)"
   ]
  },
  {
   "cell_type": "code",
   "execution_count": 64,
   "metadata": {},
   "outputs": [],
   "source": [
    "graph = tf.Graph()\n",
    "\n",
    "with graph.as_default():\n",
    "    \n",
    "    # input data\n",
    "    with tf.name_scope('inputs'):\n",
    "        train_inputs = tf.placeholder(tf.int32, shape=[batch_size, max_review_length]) # review\n",
    "        train_labels = tf.placeholder(tf.int32, shape=[batch_size, 1]) # review points (predict)\n",
    "        validation_inputs = tf.constant(validation_X)\n",
    "        validation_labels = tf.constant(validation_y)\n",
    "        \n",
    "    with tf.name_scope('embeddings'):\n",
    "        # embedding weights\n",
    "        embeddings = tf.Variable(\n",
    "            tf.random_uniform([vocabulary_size, embedding_size], -1.0, 1.0))\n",
    "        embed = tf.nn.embedding_lookup(final_embeddings, train_inputs)\n",
    "    \n",
    "    with tf.name_scope('LSTM_1'):\n",
    "        lstmCell = tf.contrib.rnn.BasicLSTMCell(h_units)\n",
    "        # drop out\n",
    "        lstmCell = tf.contrib.rnn.DropoutWrapper(cell=lstmCell, output_keep_prob=0.9)\n",
    "        # unroll\n",
    "        value, _ = tf.nn.dynamic_rnn(lstmCell, embed, dtype=tf.float32)\n",
    "    \n",
    "    # output layer weights\n",
    "    with tf.name_scope('weights'):\n",
    "        output_weights = tf.Variable(tf.truncated_normal([h_units, 1],\n",
    "                      stddev=1.0 / math.sqrt(embedding_size)))\n",
    "    # output layers biases\n",
    "    with tf.name_scope('bias'):\n",
    "        output_bias = tf.Variable(tf.zeros([1]))\n",
    "        \n",
    "    value = tf.transpose(value, [1, 0, 2])\n",
    "    last = tf.gather(value, int(value.get_shape()[0]) - 1)\n",
    "    \n",
    "    predictions = tf.add(tf.matmul(last, output_weights), output_bias)\n",
    "    \n",
    "    # validation\n",
    "    validation_embed = tf.nn.embedding_lookup(final_embeddings, validation_inputs)\n",
    "    validation_value, _ = tf.nn.dynamic_rnn(lstmCell, \n",
    "                                               validation_embed, \n",
    "                                               dtype=tf.float32)\n",
    "    validation_value = tf.transpose(validation_value, [1, 0, 2])\n",
    "    validation_last = tf.gather(validation_value, int(validation_value.get_shape()[0]) - 1)\n",
    "    validation_predictions = tf.add(tf.matmul(validation_last, output_weights), output_bias)\n",
    "    \n",
    "    # MSE since linear output\n",
    "    with tf.name_scope('loss'):\n",
    "        loss = tf.losses.mean_squared_error(\n",
    "            labels=train_labels, \n",
    "            predictions=predictions)\n",
    "        \n",
    "        validation_loss = tf.losses.mean_squared_error(\n",
    "            labels=validation_labels, \n",
    "            predictions=validation_predictions)\n",
    "        \n",
    "    # for viz\n",
    "    tf.summary.scalar('loss', loss)\n",
    "    \n",
    "    # SGD - minimize loss on train data (see loss above)\n",
    "    with tf.name_scope('optimizer'):\n",
    "        optimizer = tf.train.GradientDescentOptimizer(learning_rate).minimize(loss)\n",
    "    \n",
    "#     norm = tf.sqrt(tf.reduce_sum(tf.square(embeddings), 1, keepdims=True))\n",
    "#     normalized_embeddings = embeddings / norm\n",
    "# #     valid_embeddings = tf.nn.embedding_lookup(normalized_embeddings, valid)\n",
    "\n",
    "    # summary data\n",
    "    merged = tf.summary.merge_all()\n",
    "    \n",
    "    # init variables\n",
    "    init = tf.global_variables_initializer()\n",
    "    \n",
    "    # saver\n",
    "    saver = tf.train.Saver()"
   ]
  },
  {
   "cell_type": "code",
   "execution_count": 65,
   "metadata": {},
   "outputs": [
    {
     "name": "stdout",
     "output_type": "stream",
     "text": [
      "Initialized\n",
      "Average loss at step 0 :  9060.6142578125\n",
      "Validation loss at step 0 :  8403.573\n",
      "Average loss at step 200 :  139.3617984557152\n",
      "Validation loss at step 200 :  24.63057\n",
      "Average loss at step 400 :  18.344923058402536\n",
      "Validation loss at step 400 :  19.801155\n",
      "Average loss at step 600 :  15.926922204689442\n",
      "Validation loss at step 600 :  15.588656\n",
      "Average loss at step 800 :  15.792432293308757\n",
      "Validation loss at step 800 :  16.188202\n"
     ]
    }
   ],
   "source": [
    "num_steps = 1000\n",
    "\n",
    "with tf.Session(graph=graph) as session:\n",
    "    \n",
    "    writer = tf.summary.FileWriter('lstm', session.graph)\n",
    "    \n",
    "    init.run()\n",
    "    print('Initialized')\n",
    "    \n",
    "    average_loss = 0\n",
    "    \n",
    "    for step in range(num_steps):\n",
    "        batch_inputs, batch_labels = generate_train_batch(documents_mapped, data.points.values, batch_size)\n",
    "        feed_dict = {train_inputs: batch_inputs, train_labels: batch_labels}\n",
    "        \n",
    "        run_metadata = tf.RunMetadata()\n",
    "        \n",
    "        _, summary, loss_val = session.run(\n",
    "            [optimizer, merged, loss], \n",
    "            feed_dict=feed_dict, \n",
    "            run_metadata=run_metadata)\n",
    "        \n",
    "        average_loss += loss_val\n",
    "        \n",
    "        writer.add_summary(summary, step)\n",
    "        \n",
    "        if step == (num_steps - 1):\n",
    "            writer.add_run_metadata(run_metadata, 'step%d' % step)\n",
    "            \n",
    "        if step % 200 == 0:\n",
    "            if step > 0:\n",
    "                average_loss /= 200\n",
    "                \n",
    "            print('Average loss at step', step, ': ', average_loss)\n",
    "            print('Validation loss at step', step, ': ', validation_loss.eval())\n",
    "\n",
    "    saver.save(session, 'lstm/model.ckpt')\n",
    "    \n",
    "writer.close()"
   ]
  },
  {
   "cell_type": "code",
   "execution_count": 39,
   "metadata": {},
   "outputs": [
    {
     "data": {
      "text/plain": [
       "(169461,)"
      ]
     },
     "execution_count": 39,
     "metadata": {},
     "output_type": "execute_result"
    }
   ],
   "source": [
    "data.points.values.shape"
   ]
  }
 ],
 "metadata": {
  "kernelspec": {
   "display_name": "Python 3",
   "language": "python",
   "name": "python3"
  },
  "language_info": {
   "codemirror_mode": {
    "name": "ipython",
    "version": 3
   },
   "file_extension": ".py",
   "mimetype": "text/x-python",
   "name": "python",
   "nbconvert_exporter": "python",
   "pygments_lexer": "ipython3",
   "version": "3.6.4"
  }
 },
 "nbformat": 4,
 "nbformat_minor": 2
}
