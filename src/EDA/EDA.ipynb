{
 "cells": [
  {
   "cell_type": "code",
   "execution_count": 1,
   "metadata": {},
   "outputs": [
    {
     "name": "stderr",
     "output_type": "stream",
     "text": [
      "/home/jharmse/anaconda3/lib/python3.6/site-packages/h5py/__init__.py:36: FutureWarning: Conversion of the second argument of issubdtype from `float` to `np.floating` is deprecated. In future, it will be treated as `np.float64 == np.dtype(float).type`.\n",
      "  from ._conv import register_converters as _register_converters\n"
     ]
    }
   ],
   "source": [
    "import pandas as pd\n",
    "import string\n",
    "import nltk\n",
    "from nltk.tokenize import word_tokenize\n",
    "from nltk.corpus import stopwords\n",
    "from nltk.stem.porter import PorterStemmer\n",
    "\n",
    "import tensorflow as tf\n",
    "import numpy as np\n",
    "import collections\n",
    "from collections import Counter\n",
    "import math\n",
    "import random\n",
    "\n",
    "from sklearn.manifold import TSNE\n",
    "import matplotlib.pyplot as plt\n",
    "import seaborn as sns\n",
    "\n",
    "from sklearn.model_selection import train_test_split"
   ]
  },
  {
   "cell_type": "markdown",
   "metadata": {},
   "source": [
    "## Objective\n",
    "\n",
    "Predict the score of a wine review based purely on the textual features of the review.\n",
    "\n",
    "## General Strategy\n",
    "\n",
    "Use Word Embeddings and LSTM to extract as much semantical value from the reviews, with the hypothesis that semantically positive reviews will have higher ratings that semantically negative reviews."
   ]
  },
  {
   "cell_type": "markdown",
   "metadata": {},
   "source": [
    "## Data Import\n",
    "\n",
    "The data used for this analysis can be found [here](https://www.kaggle.com/zynicide/wine-reviews).\n",
    "\n",
    "Two datasets are included, which have been scraped at different points in time.\n",
    "\n",
    "The unique reviews from both datasets will be used.\n",
    "\n",
    "All columns will be dropped, excepts for the `description` (independent variables) and `points` (dependent variable)."
   ]
  },
  {
   "cell_type": "code",
   "execution_count": 2,
   "metadata": {},
   "outputs": [
    {
     "name": "stdout",
     "output_type": "stream",
     "text": [
      "Number of entries in dataset 1: 150930\n",
      "Number of entries in dataset 2: 129971\n",
      "\n",
      "Number of duplicate entries across datasets: 48346\n",
      "\n",
      "Number of unique reviews: 169461\n"
     ]
    },
    {
     "data": {
      "text/html": [
       "<div>\n",
       "<style scoped>\n",
       "    .dataframe tbody tr th:only-of-type {\n",
       "        vertical-align: middle;\n",
       "    }\n",
       "\n",
       "    .dataframe tbody tr th {\n",
       "        vertical-align: top;\n",
       "    }\n",
       "\n",
       "    .dataframe thead th {\n",
       "        text-align: right;\n",
       "    }\n",
       "</style>\n",
       "<table border=\"1\" class=\"dataframe\">\n",
       "  <thead>\n",
       "    <tr style=\"text-align: right;\">\n",
       "      <th></th>\n",
       "      <th>description</th>\n",
       "      <th>points</th>\n",
       "    </tr>\n",
       "  </thead>\n",
       "  <tbody>\n",
       "    <tr>\n",
       "      <th>0</th>\n",
       "      <td>This tremendous 100% varietal wine hails from ...</td>\n",
       "      <td>96</td>\n",
       "    </tr>\n",
       "    <tr>\n",
       "      <th>1</th>\n",
       "      <td>Ripe aromas of fig, blackberry and cassis are ...</td>\n",
       "      <td>96</td>\n",
       "    </tr>\n",
       "    <tr>\n",
       "      <th>2</th>\n",
       "      <td>Mac Watson honors the memory of a wine once ma...</td>\n",
       "      <td>96</td>\n",
       "    </tr>\n",
       "    <tr>\n",
       "      <th>3</th>\n",
       "      <td>This spent 20 months in 30% new French oak, an...</td>\n",
       "      <td>96</td>\n",
       "    </tr>\n",
       "    <tr>\n",
       "      <th>4</th>\n",
       "      <td>This is the top wine from La Bégude, named aft...</td>\n",
       "      <td>95</td>\n",
       "    </tr>\n",
       "  </tbody>\n",
       "</table>\n",
       "</div>"
      ],
      "text/plain": [
       "                                         description  points\n",
       "0  This tremendous 100% varietal wine hails from ...      96\n",
       "1  Ripe aromas of fig, blackberry and cassis are ...      96\n",
       "2  Mac Watson honors the memory of a wine once ma...      96\n",
       "3  This spent 20 months in 30% new French oak, an...      96\n",
       "4  This is the top wine from La Bégude, named aft...      95"
      ]
     },
     "execution_count": 2,
     "metadata": {},
     "output_type": "execute_result"
    }
   ],
   "source": [
    "# columns to use\n",
    "cols=['description', 'points']\n",
    "\n",
    "# import data\n",
    "reviews_1 = pd.read_csv('../../data/wine-reviews/winemag-data_first150k.csv', index_col=False, usecols=cols)\n",
    "reviews_2 = pd.read_csv('../../data/wine-reviews/winemag-data-130k-v2.csv', index_col=False, usecols=cols)\n",
    "\n",
    "print(\"Number of entries in dataset 1: %s\" %reviews_1.shape[0])\n",
    "print(\"Number of entries in dataset 2: %s\" %reviews_2.shape[0])\n",
    "\n",
    "duplicates = set(reviews_1.description).intersection(set(reviews_2.description))\n",
    "\n",
    "print(\"\\nNumber of duplicate entries across datasets: %s\" % len(duplicates))\n",
    "\n",
    "# concatenate and drop duplicates\n",
    "data = pd.concat([reviews_1,reviews_2]).drop_duplicates().reset_index(drop=True)\n",
    "data.drop_duplicates(inplace=True)\n",
    "\n",
    "print(\"\\nNumber of unique reviews: %s\" % data.shape[0])\n",
    "\n",
    "data.head()"
   ]
  },
  {
   "cell_type": "code",
   "execution_count": 3,
   "metadata": {},
   "outputs": [
    {
     "data": {
      "image/png": "[encoded data removed]",
      "text/plain": [
       "<matplotlib.figure.Figure at 0x7f902c237be0>"
      ]
     },
     "metadata": {},
     "output_type": "display_data"
    }
   ],
   "source": [
    "sns.distplot(data.points,  bins = range(data.points.min(), data.points.max() + 1), \n",
    "             kde_kws={'bw':1}).set_title(\"Points Density Distribution\")\n",
    "plt.show()"
   ]
  },
  {
   "cell_type": "markdown",
   "metadata": {},
   "source": [
    "## Data Cleaning\n",
    "\n",
    "The following text cleaning tasks are performed:\n",
    "\n",
    "* Change to lower case (make words more generic)\n",
    "\n",
    "* Remove punctuation (isn't of any importance in this scenario)\n",
    "\n",
    "* Replace `%` with `percent` (it seems with wine reviews, percentage is a common word, so we keep it)\n",
    "\n",
    "* Replace `_` with whitespace (a few of these have been observed)\n",
    "\n",
    "* Tokenize words (Reviews contain quite a bit of slang. Good to generalise)\n",
    "\n",
    "* Remove stop words (We are only interested in the semantically important words to determine review scores. Stop words can be excluded)\n",
    "\n",
    "* Stem words (Use word stemming to generalise words. If words are too unique, it won't add value)\n",
    "\n",
    "* Split review by words (need to do this for word embedding) "
   ]
  },
  {
   "cell_type": "code",
   "execution_count": 4,
   "metadata": {},
   "outputs": [
    {
     "data": {
      "text/html": [
       "<div>\n",
       "<style scoped>\n",
       "    .dataframe tbody tr th:only-of-type {\n",
       "        vertical-align: middle;\n",
       "    }\n",
       "\n",
       "    .dataframe tbody tr th {\n",
       "        vertical-align: top;\n",
       "    }\n",
       "\n",
       "    .dataframe thead th {\n",
       "        text-align: right;\n",
       "    }\n",
       "</style>\n",
       "<table border=\"1\" class=\"dataframe\">\n",
       "  <thead>\n",
       "    <tr style=\"text-align: right;\">\n",
       "      <th></th>\n",
       "      <th>description</th>\n",
       "      <th>points</th>\n",
       "    </tr>\n",
       "  </thead>\n",
       "  <tbody>\n",
       "    <tr>\n",
       "      <th>0</th>\n",
       "      <td>[tremend, 100, percent, variet, wine, hail, oa...</td>\n",
       "      <td>96</td>\n",
       "    </tr>\n",
       "    <tr>\n",
       "      <th>1</th>\n",
       "      <td>[ripe, aroma, fig, blackberri, cassi, soften, ...</td>\n",
       "      <td>96</td>\n",
       "    </tr>\n",
       "    <tr>\n",
       "      <th>2</th>\n",
       "      <td>[mac, watson, honor, memori, wine, made, mothe...</td>\n",
       "      <td>96</td>\n",
       "    </tr>\n",
       "    <tr>\n",
       "      <th>3</th>\n",
       "      <td>[spent, 20, month, 30, percent, new, french, o...</td>\n",
       "      <td>96</td>\n",
       "    </tr>\n",
       "    <tr>\n",
       "      <th>4</th>\n",
       "      <td>[top, wine, la, bégude, name, highest, point, ...</td>\n",
       "      <td>95</td>\n",
       "    </tr>\n",
       "  </tbody>\n",
       "</table>\n",
       "</div>"
      ],
      "text/plain": [
       "                                         description  points\n",
       "0  [tremend, 100, percent, variet, wine, hail, oa...      96\n",
       "1  [ripe, aroma, fig, blackberri, cassi, soften, ...      96\n",
       "2  [mac, watson, honor, memori, wine, made, mothe...      96\n",
       "3  [spent, 20, month, 30, percent, new, french, o...      96\n",
       "4  [top, wine, la, bégude, name, highest, point, ...      95"
      ]
     },
     "execution_count": 4,
     "metadata": {},
     "output_type": "execute_result"
    }
   ],
   "source": [
    "def text_cleaning(data):\n",
    "    \"\"\"Clean text data using the following techniques:\n",
    "        - remove punctuation\n",
    "        - replace percentage sign\n",
    "        - replace unique characters with more sensible characters\n",
    "        - tokenize words\n",
    "        - remove stopwords\n",
    "        - use word stemming\n",
    "    \"\"\"\n",
    "    # punctuation to remove\n",
    "    punc_remove = string.punctuation\n",
    "    punc_remove = punc_remove.replace('%', '')\n",
    "\n",
    "    # stopwords to remove\n",
    "    stop_words = stopwords.words('english')\n",
    "\n",
    "    # lowercase\n",
    "    data['description'] = data.description.str.lower()\n",
    "    # remove punctuation\n",
    "    data['description'] = data.description.str.replace('[' + punc_remove + ']', '')\n",
    "    # replace percentage sign\n",
    "    data['description'] = data.description.str.replace('%', ' percent')\n",
    "    # replace underscores\n",
    "    data['description'] = data.description.str.replace('_', ' ')\n",
    "    # tokenize\n",
    "    data['description'] = data['description'].apply(word_tokenize)\n",
    "    # remove stop words\n",
    "    data['description'] = data['description'].apply(lambda x: [word for word in x if word not in stop_words])\n",
    "    # word stemming\n",
    "    porter = PorterStemmer()\n",
    "    data['description'] = data['description'].apply(lambda x: [porter.stem(word) for word in x])\n",
    "    \n",
    "    return data\n",
    "\n",
    "data = text_cleaning(data)\n",
    "\n",
    "data.head()"
   ]
  },
  {
   "cell_type": "markdown",
   "metadata": {},
   "source": [
    "## Word Embedding\n",
    "\n",
    "We will be using **Word2Vec** with **skip-gram** to create vectors for the words that occur most frequently in the reviews."
   ]
  },
  {
   "cell_type": "markdown",
   "metadata": {},
   "source": [
    "First we determine our complete vocabulary - all the unique words occurring in the reviews. We also capture the number of occurances for each word so that we can differentiate between frequently used words and words that won't add much value."
   ]
  },
  {
   "cell_type": "code",
   "execution_count": 6,
   "metadata": {},
   "outputs": [],
   "source": [
    "def create_vocabulary(documents):\n",
    "    \"\"\"Unique words and counts\"\"\"\n",
    "    vocabulary = Counter()\n",
    "\n",
    "    for row in documents:\n",
    "        vocabulary.update(row)\n",
    "        \n",
    "    return vocabulary\n",
    "\n",
    "documents = list(data.description)\n",
    "vocabulary = create_vocabulary(documents)\n",
    "vocabulary_size = len(vocabulary)"
   ]
  },
  {
   "cell_type": "code",
   "execution_count": 7,
   "metadata": {},
   "outputs": [
    {
     "data": {
      "image/png": "[encoded data removed]",
      "text/plain": [
       "<matplotlib.figure.Figure at 0x7f9026a42470>"
      ]
     },
     "metadata": {},
     "output_type": "display_data"
    }
   ],
   "source": [
    "sns.distplot(list(vocabulary.values()), kde_kws={'bw':250}, hist=False, \n",
    "            axlabel = 'Number of Word Occurences').set_title(\"Word Occurence Density Distribution across Reviews\")\n",
    "plt.show()"
   ]
  },
  {
   "cell_type": "code",
   "execution_count": 8,
   "metadata": {},
   "outputs": [
    {
     "name": "stdout",
     "output_type": "stream",
     "text": [
      "Top 10 most common stem words (excludes stop words):\n"
     ]
    },
    {
     "data": {
      "text/html": [
       "<div>\n",
       "<style scoped>\n",
       "    .dataframe tbody tr th:only-of-type {\n",
       "        vertical-align: middle;\n",
       "    }\n",
       "\n",
       "    .dataframe tbody tr th {\n",
       "        vertical-align: top;\n",
       "    }\n",
       "\n",
       "    .dataframe thead th {\n",
       "        text-align: right;\n",
       "    }\n",
       "</style>\n",
       "<table border=\"1\" class=\"dataframe\">\n",
       "  <thead>\n",
       "    <tr style=\"text-align: right;\">\n",
       "      <th></th>\n",
       "      <th>word</th>\n",
       "      <th>count</th>\n",
       "    </tr>\n",
       "  </thead>\n",
       "  <tbody>\n",
       "    <tr>\n",
       "      <th>0</th>\n",
       "      <td>wine</td>\n",
       "      <td>108187</td>\n",
       "    </tr>\n",
       "    <tr>\n",
       "      <th>1</th>\n",
       "      <td>flavor</td>\n",
       "      <td>93686</td>\n",
       "    </tr>\n",
       "    <tr>\n",
       "      <th>2</th>\n",
       "      <td>fruit</td>\n",
       "      <td>76736</td>\n",
       "    </tr>\n",
       "    <tr>\n",
       "      <th>3</th>\n",
       "      <td>finish</td>\n",
       "      <td>52391</td>\n",
       "    </tr>\n",
       "    <tr>\n",
       "      <th>4</th>\n",
       "      <td>aroma</td>\n",
       "      <td>49137</td>\n",
       "    </tr>\n",
       "    <tr>\n",
       "      <th>5</th>\n",
       "      <td>acid</td>\n",
       "      <td>48837</td>\n",
       "    </tr>\n",
       "    <tr>\n",
       "      <th>6</th>\n",
       "      <td>palat</td>\n",
       "      <td>43873</td>\n",
       "    </tr>\n",
       "    <tr>\n",
       "      <th>7</th>\n",
       "      <td>cherri</td>\n",
       "      <td>41712</td>\n",
       "    </tr>\n",
       "    <tr>\n",
       "      <th>8</th>\n",
       "      <td>tannin</td>\n",
       "      <td>41276</td>\n",
       "    </tr>\n",
       "    <tr>\n",
       "      <th>9</th>\n",
       "      <td>drink</td>\n",
       "      <td>37941</td>\n",
       "    </tr>\n",
       "  </tbody>\n",
       "</table>\n",
       "</div>"
      ],
      "text/plain": [
       "     word   count\n",
       "0    wine  108187\n",
       "1  flavor   93686\n",
       "2   fruit   76736\n",
       "3  finish   52391\n",
       "4   aroma   49137\n",
       "5    acid   48837\n",
       "6   palat   43873\n",
       "7  cherri   41712\n",
       "8  tannin   41276\n",
       "9   drink   37941"
      ]
     },
     "execution_count": 8,
     "metadata": {},
     "output_type": "execute_result"
    }
   ],
   "source": [
    "print(\"Top 10 most common stem words (excludes stop words):\")\n",
    "pd.DataFrame(vocabulary.most_common(10), columns=['word', 'count'])"
   ]
  },
  {
   "cell_type": "code",
   "execution_count": 9,
   "metadata": {},
   "outputs": [
    {
     "name": "stdout",
     "output_type": "stream",
     "text": [
      "Number of word occurences at 80 percentile: 8\n"
     ]
    }
   ],
   "source": [
    "percentile = 80\n",
    "percentile_value = np.percentile(list(vocabulary.values()), percentile)\n",
    "print(\"Number of word occurences at %d percentile: %d\" % (percentile, percentile_value))"
   ]
  },
  {
   "cell_type": "markdown",
   "metadata": {},
   "source": [
    "Looking at the density distribution of word occurrences above, it is evident that the majority of words occur rarely across reviews. We will only work with the 20% most common words. Words need to occur at least 8 times across all reviews to receive it's own word embedding. Otherwise it gets a default word embedding (grouping of all uncommon words). This is something that can be optimised.\n",
    "\n",
    "So let's identify the 20% of words that occur most frequently. These words will receive their own word embeddings. The other words will be grouped together.\n",
    "\n",
    "We also need to create integer IDs for each of these common words. The uncommon words will share the same ID. The integer IDs will be used within our neural network when embedding the words."
   ]
  },
  {
   "cell_type": "code",
   "execution_count": 10,
   "metadata": {},
   "outputs": [
    {
     "data": {
      "image/png": "[encoded data removed]",
      "text/plain": [
       "<matplotlib.figure.Figure at 0x7f9026a424a8>"
      ]
     },
     "metadata": {},
     "output_type": "display_data"
    }
   ],
   "source": [
    "sns.distplot([x for x in vocabulary.values() if x > percentile_value], \n",
    "             kde_kws={'bw':250}, \n",
    "             hist=False, \n",
    "             axlabel = 'Number of Word Occurences').set_title(\"20% Most Common Word Occurences Density Distribution across Reviews\")\n",
    "plt.show()"
   ]
  },
  {
   "cell_type": "code",
   "execution_count": 11,
   "metadata": {},
   "outputs": [],
   "source": [
    "def top_vocabulary(vocabulary, n_words):\n",
    "    \"\"\"Limit vocabulary to highest occurring words and create IDs.\"\"\"\n",
    "    vocabulary_n = list(dict(vocabulary.most_common(n_words - 1)).keys())\n",
    "    vocabulary_n.append('UNK') # placeholder for rare words\n",
    "    \n",
    "    vocabulary_n = dict(zip(vocabulary_n, random.sample(range(0, n_words+1), n_words)))\n",
    "            \n",
    "    return vocabulary_n"
   ]
  },
  {
   "cell_type": "code",
   "execution_count": 12,
   "metadata": {},
   "outputs": [],
   "source": [
    "n_top_words = int(0.2*len(vocabulary))\n",
    "vocabulary_n = top_vocabulary(vocabulary, n_words = n_top_words)"
   ]
  },
  {
   "cell_type": "markdown",
   "metadata": {},
   "source": [
    "Below follows an intermediate step for mapping the IDs to our vocabulary. We need to map the uncommon ID to each uncommon word (less than our word occurance percentile value)."
   ]
  },
  {
   "cell_type": "code",
   "execution_count": 13,
   "metadata": {},
   "outputs": [],
   "source": [
    "def map_vocabulary(vocabulary, map_table):\n",
    "    \"\"\"Map vocabulary words to IDs\"\"\"\n",
    "    vocabulary_map_table = dict.fromkeys(vocabulary.keys(), 0)\n",
    "    for word in vocabulary:\n",
    "        if word not in map_table:\n",
    "            vocabulary_map_table[word] = map_table['UNK']\n",
    "        else:\n",
    "            vocabulary_map_table[word] = map_table[word]\n",
    "            \n",
    "    return vocabulary_map_table"
   ]
  },
  {
   "cell_type": "code",
   "execution_count": 14,
   "metadata": {},
   "outputs": [],
   "source": [
    "vocabulary_map_table = map_vocabulary(vocabulary, vocabulary_n)"
   ]
  },
  {
   "cell_type": "markdown",
   "metadata": {},
   "source": [
    "Now we can map each word in each review to an ID. This means we can represent our reviews in terms of integers."
   ]
  },
  {
   "cell_type": "code",
   "execution_count": 15,
   "metadata": {},
   "outputs": [],
   "source": [
    "def map_documents(documents, vocabulary_map_table):\n",
    "    \"\"\"Map documents to integer word IDs\"\"\"\n",
    "    documents_mapped = [[vocabulary_map_table[word] for word in doc] for doc in documents]\n",
    "    \n",
    "    return documents_mapped        "
   ]
  },
  {
   "cell_type": "code",
   "execution_count": 16,
   "metadata": {},
   "outputs": [],
   "source": [
    "documents_mapped = map_documents(documents, vocabulary_map_table) "
   ]
  },
  {
   "cell_type": "markdown",
   "metadata": {},
   "source": [
    "With Word2Vec we want to determine which words relate to each other given a number of latent features. The way we do that is by trying to show our model a *target* word and letting the model try to predict a *context* word. With skip-gram, the method we will be using, context words are words surrounding a target word within a review. We work under the assumption that words in close proximity of each other share context.\n",
    "\n",
    "We need to feed in our context and target words as batches to our model.\n",
    "\n",
    "We need to create context and target pairs, where the target word is the center word between the surrounding context words.\n",
    "\n",
    "Below we ensure that context is only maintained within reviews (reviews are independent of each other).\n",
    "\n",
    "We need to keep track of the batches going into our model, to prevent repeatedly training the model on the same review and completely missing other reviews.\n",
    "\n",
    "First we initialize counters that will help keep track of which review, and where exactly in the review, did we stop with the previous batch creation."
   ]
  },
  {
   "cell_type": "code",
   "execution_count": 17,
   "metadata": {},
   "outputs": [],
   "source": [
    "# keep track of which review was last fed into the model\n",
    "review_index = 0\n",
    "# keep track of which word within review was last fed into the model\n",
    "word_index = 0"
   ]
  },
  {
   "cell_type": "code",
   "execution_count": 18,
   "metadata": {},
   "outputs": [
    {
     "name": "stdout",
     "output_type": "stream",
     "text": [
      "Total number of words in reviews: 4246965\n"
     ]
    }
   ],
   "source": [
    "# just out of interest\n",
    "total_num_words = sum([len(doc) for doc in documents_mapped])\n",
    "print(\"Total number of words in reviews: %d\" % total_num_words)"
   ]
  },
  {
   "cell_type": "markdown",
   "metadata": {},
   "source": [
    "We systematically iterate through reviews as we generate batches. If we want to reach the end of the reviews and we want to generate more batches, the iterators will reset and start collecting words from the first review again.\n",
    "\n",
    "The function will return both context and target which are needed for the skip grams architecture."
   ]
  },
  {
   "cell_type": "code",
   "execution_count": 19,
   "metadata": {},
   "outputs": [],
   "source": [
    "def generate_batch(documents_mapped, batch_size, num_skips, skip_window):\n",
    "    \"\"\"\n",
    "    Generate skip-gram batches for Word2Vec model.\n",
    "    \n",
    "    To ensure that all words are used, a global \n",
    "    variable, `word_index` is used to keep track \n",
    "    of the words being fed into the batch, across \n",
    "    batches.\n",
    "    \n",
    "    To ensure that all reviews are used, a global \n",
    "    variable, `review_index` isi used to keep track\n",
    "    of the reviews being fed into the batch, across\n",
    "    batches.\n",
    "    \n",
    "    Context words are chosen from a span surrounding the \n",
    "    label word, where `span = 2 * skip_window + 1`, and \n",
    "    the label word is in the center of the span.\n",
    "    \n",
    "    Returns context words and related label word as two \n",
    "    seperate objects.\n",
    "    \"\"\"\n",
    "    global review_index\n",
    "    global word_index\n",
    "    \n",
    "    batch = np.ndarray(shape=(batch_size), dtype=np.int32)\n",
    "    labels = np.ndarray(shape=(batch_size, 1), dtype=np.int32)\n",
    "    \n",
    "    # span considers window on both sides of target word\n",
    "    # we could potentially consider a full sentence or review\n",
    "    # as the context, but keeping it simpler for now\n",
    "    span = 2 * skip_window + 1 \n",
    "    \n",
    "    # init buffer (context and target words)\n",
    "    buffer = collections.deque(maxlen=span)\n",
    "    \n",
    "    # go back to first review if no more reviews left\n",
    "    if review_index >= len(documents_mapped):\n",
    "        review_index = 0\n",
    "        word_index = 0\n",
    "    \n",
    "    # make sure there are enough words for skip-gram\n",
    "    # could consider moving to next review instead of recycling words\n",
    "    if word_index + span > len(documents_mapped[review_index]):\n",
    "        word_index = max(len(documents_mapped[review_index]) - span - 1, 0)\n",
    "    \n",
    "    # new skip-gram\n",
    "    buffer.extend(documents_mapped[review_index][word_index:word_index + span])\n",
    "        \n",
    "    for i in range(batch_size // num_skips):\n",
    "        # skip_window is the same as index of target word\n",
    "        context_words = [w for w in range(span) if w != skip_window]\n",
    "        # randomly select context word indices to use\n",
    "        words_to_use = random.sample(context_words, num_skips)\n",
    "        for j, context_word in enumerate(words_to_use):\n",
    "            # target word\n",
    "            batch[i * num_skips + j] = buffer[skip_window]\n",
    "            # context word\n",
    "            labels[i * num_skips + j, 0] = buffer[context_word]\n",
    "        \n",
    "        # add next words / new review for skips\n",
    "        if word_index + span >= len(documents_mapped[review_index]):\n",
    "            # next review\n",
    "            if review_index < len(documents_mapped):\n",
    "                review_index += 1\n",
    "            # start at the beginning if non left\n",
    "            else:\n",
    "                review_index = 0\n",
    "            \n",
    "            word_index = 0\n",
    "            buffer.extend(documents_mapped[review_index][word_index:word_index + span])\n",
    "            word_index += span\n",
    "        else:\n",
    "            # add next word in review\n",
    "            buffer.append(documents_mapped[review_index][word_index])\n",
    "            word_index += 1\n",
    "            \n",
    "    return batch, labels"
   ]
  },
  {
   "cell_type": "code",
   "execution_count": 20,
   "metadata": {},
   "outputs": [],
   "source": [
    "# train on 50 samples at a time\n",
    "batch_size = 50\n",
    "# number of samples to generate from \n",
    "# a single span\n",
    "num_skips = 5\n",
    "# size of window (one-sided)\n",
    "skip_window = 3\n",
    "\n",
    "test_batch, test_labels = generate_batch(documents_mapped, batch_size, num_skips, skip_window) "
   ]
  },
  {
   "cell_type": "code",
   "execution_count": 21,
   "metadata": {},
   "outputs": [],
   "source": [
    "assert test_batch.shape[0] == batch_size"
   ]
  },
  {
   "cell_type": "code",
   "execution_count": 22,
   "metadata": {},
   "outputs": [
    {
     "name": "stdout",
     "output_type": "stream",
     "text": [
      "Sample of Target and Context Words and IDs:\n",
      "\n"
     ]
    },
    {
     "data": {
      "text/html": [
       "<div>\n",
       "<style scoped>\n",
       "    .dataframe tbody tr th:only-of-type {\n",
       "        vertical-align: middle;\n",
       "    }\n",
       "\n",
       "    .dataframe tbody tr th {\n",
       "        vertical-align: top;\n",
       "    }\n",
       "\n",
       "    .dataframe thead th {\n",
       "        text-align: right;\n",
       "    }\n",
       "</style>\n",
       "<table border=\"1\" class=\"dataframe\">\n",
       "  <thead>\n",
       "    <tr style=\"text-align: right;\">\n",
       "      <th></th>\n",
       "      <th>Target_ID</th>\n",
       "      <th>Context_ID</th>\n",
       "      <th>Target_Word</th>\n",
       "      <th>Context_Word</th>\n",
       "    </tr>\n",
       "  </thead>\n",
       "  <tbody>\n",
       "    <tr>\n",
       "      <th>0</th>\n",
       "      <td>653</td>\n",
       "      <td>419</td>\n",
       "      <td>variet</td>\n",
       "      <td>100</td>\n",
       "    </tr>\n",
       "    <tr>\n",
       "      <th>1</th>\n",
       "      <td>653</td>\n",
       "      <td>4311</td>\n",
       "      <td>variet</td>\n",
       "      <td>percent</td>\n",
       "    </tr>\n",
       "    <tr>\n",
       "      <th>2</th>\n",
       "      <td>653</td>\n",
       "      <td>35</td>\n",
       "      <td>variet</td>\n",
       "      <td>wine</td>\n",
       "    </tr>\n",
       "    <tr>\n",
       "      <th>3</th>\n",
       "      <td>653</td>\n",
       "      <td>6486</td>\n",
       "      <td>variet</td>\n",
       "      <td>tremend</td>\n",
       "    </tr>\n",
       "    <tr>\n",
       "      <th>4</th>\n",
       "      <td>653</td>\n",
       "      <td>4051</td>\n",
       "      <td>variet</td>\n",
       "      <td>oakvil</td>\n",
       "    </tr>\n",
       "    <tr>\n",
       "      <th>5</th>\n",
       "      <td>35</td>\n",
       "      <td>419</td>\n",
       "      <td>wine</td>\n",
       "      <td>100</td>\n",
       "    </tr>\n",
       "    <tr>\n",
       "      <th>6</th>\n",
       "      <td>35</td>\n",
       "      <td>4051</td>\n",
       "      <td>wine</td>\n",
       "      <td>oakvil</td>\n",
       "    </tr>\n",
       "    <tr>\n",
       "      <th>7</th>\n",
       "      <td>35</td>\n",
       "      <td>5081</td>\n",
       "      <td>wine</td>\n",
       "      <td>hail</td>\n",
       "    </tr>\n",
       "    <tr>\n",
       "      <th>8</th>\n",
       "      <td>35</td>\n",
       "      <td>653</td>\n",
       "      <td>wine</td>\n",
       "      <td>variet</td>\n",
       "    </tr>\n",
       "    <tr>\n",
       "      <th>9</th>\n",
       "      <td>35</td>\n",
       "      <td>6486</td>\n",
       "      <td>wine</td>\n",
       "      <td>tremend</td>\n",
       "    </tr>\n",
       "    <tr>\n",
       "      <th>10</th>\n",
       "      <td>5081</td>\n",
       "      <td>35</td>\n",
       "      <td>hail</td>\n",
       "      <td>wine</td>\n",
       "    </tr>\n",
       "    <tr>\n",
       "      <th>11</th>\n",
       "      <td>5081</td>\n",
       "      <td>653</td>\n",
       "      <td>hail</td>\n",
       "      <td>variet</td>\n",
       "    </tr>\n",
       "    <tr>\n",
       "      <th>12</th>\n",
       "      <td>5081</td>\n",
       "      <td>4311</td>\n",
       "      <td>hail</td>\n",
       "      <td>percent</td>\n",
       "    </tr>\n",
       "    <tr>\n",
       "      <th>13</th>\n",
       "      <td>5081</td>\n",
       "      <td>6486</td>\n",
       "      <td>hail</td>\n",
       "      <td>tremend</td>\n",
       "    </tr>\n",
       "    <tr>\n",
       "      <th>14</th>\n",
       "      <td>5081</td>\n",
       "      <td>4051</td>\n",
       "      <td>hail</td>\n",
       "      <td>oakvil</td>\n",
       "    </tr>\n",
       "  </tbody>\n",
       "</table>\n",
       "</div>"
      ],
      "text/plain": [
       "    Target_ID  Context_ID Target_Word Context_Word\n",
       "0         653         419      variet          100\n",
       "1         653        4311      variet      percent\n",
       "2         653          35      variet         wine\n",
       "3         653        6486      variet      tremend\n",
       "4         653        4051      variet       oakvil\n",
       "5          35         419        wine          100\n",
       "6          35        4051        wine       oakvil\n",
       "7          35        5081        wine         hail\n",
       "8          35         653        wine       variet\n",
       "9          35        6486        wine      tremend\n",
       "10       5081          35        hail         wine\n",
       "11       5081         653        hail       variet\n",
       "12       5081        4311        hail      percent\n",
       "13       5081        6486        hail      tremend\n",
       "14       5081        4051        hail       oakvil"
      ]
     },
     "metadata": {},
     "output_type": "display_data"
    }
   ],
   "source": [
    "sample = pd.DataFrame({'Target_ID': test_batch[:15], \n",
    "              'Context_ID': [x[0] for x in test_labels[:15]]})\n",
    "\n",
    "sample['Target_Word'] = sample['Target_ID'].apply(lambda x: \n",
    "                                                  list(vocabulary_map_table.keys())[list(vocabulary_map_table.values()).index(x)])\n",
    "sample['Context_Word'] = sample['Context_ID'].apply(lambda x: \n",
    "                                                  list(vocabulary_map_table.keys())[list(vocabulary_map_table.values()).index(x)])\n",
    "\n",
    "print('Sample of Target and Context Words and IDs:\\n')\n",
    "display(sample)"
   ]
  },
  {
   "cell_type": "markdown",
   "metadata": {},
   "source": [
    "There are a few parameters we need to specify for the model:\n",
    "\n",
    "* **Embedding Size:** Dimensionality of each word vector (number of latent word features)\n",
    "\n",
    "* **Batch Size:** Number of target-context pairs fed in to the model per batch. The mini-batches allows us to perform stochastic gradient descent to quickly and effectively find word embeddings.\n",
    "\n",
    "* **Number of Skips:** Number of times a word should be used as the target word, when creating skip-grams.\n",
    "\n",
    "* **Skip Window:** Size of window towards one side of the target word. The span width is $2*skip\\ window\\ + 1$. All words within the span width surrounding the target word, will be considered as context words.\n",
    "\n",
    "* **Number of Negative Samples:** The number of negative examples (corrupt) context words to sample per batch. These corrupt samples will be used in the loss function (we want to be able to correctly identify a relevant context word and correctly identify a corrupt context word)"
   ]
  },
  {
   "cell_type": "code",
   "execution_count": 23,
   "metadata": {},
   "outputs": [],
   "source": [
    "# number of latent features\n",
    "embedding_size = 512\n",
    "# size of batch fed into model\n",
    "batch_size = 50\n",
    "# number of pairs to create from span\n",
    "num_skips = 5\n",
    "# one-sieded skip window\n",
    "skip_window = 3\n",
    "# number of negative samples to use when \n",
    "# calculating loss\n",
    "num_sampled = 32"
   ]
  },
  {
   "cell_type": "markdown",
   "metadata": {},
   "source": [
    "Below follows the Word2Vec graph.\n",
    "\n",
    "We feed in a target word as input.\n",
    "\n",
    "Then it in goes through the embeddings layer. These weight values are what we are interested in, and are the values we will use as our word vectors after training.\n",
    "\n",
    "The word2vec graph as a single hidden layer.\n",
    "\n",
    "The output of the hidden layer is fed into a logistic regression model to calculate the loss. It is computationally too expensive to use softmax, since the number of classes would be equal to our vocabulary."
   ]
  },
  {
   "cell_type": "code",
   "execution_count": 24,
   "metadata": {},
   "outputs": [],
   "source": [
    "graph = tf.Graph()\n",
    "\n",
    "with graph.as_default():\n",
    "    \n",
    "    # input data\n",
    "    with tf.name_scope('inputs'):\n",
    "        train_inputs = tf.placeholder(tf.int32, shape=batch_size) # target\n",
    "        train_labels = tf.placeholder(tf.int32, shape=[batch_size, 1]) # context (what we want to predict)\n",
    "        \n",
    "    with tf.name_scope('embeddings'):\n",
    "        # embedding weights\n",
    "        embeddings = tf.Variable(\n",
    "            tf.random_uniform([vocabulary_size, embedding_size], -1.0, 1.0))\n",
    "        embed = tf.nn.embedding_lookup(embeddings, train_inputs)\n",
    "    \n",
    "    # hidden layer weights\n",
    "    with tf.name_scope('weights'):\n",
    "        nce_weights = tf.Variable(tf.truncated_normal([vocabulary_size, embedding_size],\n",
    "                      stddev=1.0 / math.sqrt(embedding_size)))\n",
    "    # hidden layers biases\n",
    "    with tf.name_scope('biases'):\n",
    "        nce_biases = tf.Variable(tf.zeros([vocabulary_size]))\n",
    "        \n",
    "    # NCE because softmax is too expensive\n",
    "    # is it a good or a corrupt pair (context and target)?\n",
    "    with tf.name_scope('loss'):\n",
    "        loss = tf.reduce_mean(\n",
    "            tf.nn.nce_loss(\n",
    "                weights=nce_weights, \n",
    "                biases=nce_biases, \n",
    "                labels=train_labels, \n",
    "                inputs=embed, \n",
    "                num_sampled=num_sampled, \n",
    "                num_classes=vocabulary_size))\n",
    "    \n",
    "    # SGD - minimize loss on train data (see loss above)\n",
    "    # Learning Rate = 1.0\n",
    "    with tf.name_scope('optimizer'):\n",
    "        optimizer = tf.train.GradientDescentOptimizer(1.0).minimize(loss)\n",
    "    \n",
    "    norm = tf.sqrt(tf.reduce_sum(tf.square(embeddings), 1, keepdims=True))\n",
    "    normalized_embeddings = tf.Variable(embeddings / norm)\n",
    "    \n",
    "    # init variables\n",
    "    init = tf.global_variables_initializer()\n",
    "    \n",
    "    # save embeddings\n",
    "    saver = tf.train.Saver({'word_embeddings': normalized_embeddings})"
   ]
  },
  {
   "cell_type": "markdown",
   "metadata": {},
   "source": [
    "Now we can train our Word2Vec model."
   ]
  },
  {
   "cell_type": "code",
   "execution_count": 25,
   "metadata": {},
   "outputs": [
    {
     "name": "stdout",
     "output_type": "stream",
     "text": [
      "Initialized\n",
      "Average loss at step 0 :  142.293212890625\n",
      "Average loss at step 500 :  104.74997985076904\n",
      "Average loss at step 1000 :  75.15562506269836\n",
      "Average loss at step 1500 :  60.81396508160733\n",
      "Average loss at step 2000 :  54.836501619814705\n",
      "Average loss at step 2500 :  50.10706399445057\n",
      "Average loss at step 3000 :  42.495444748849955\n",
      "Average loss at step 3500 :  39.68563632196993\n",
      "Average loss at step 4000 :  35.91792528732671\n",
      "Average loss at step 4500 :  32.85320365224092\n",
      "Average loss at step 5000 :  30.3260026383359\n",
      "Average loss at step 5500 :  28.33739223512172\n",
      "Average loss at step 6000 :  26.159464196253463\n",
      "Average loss at step 6500 :  25.48809284988222\n",
      "Average loss at step 7000 :  22.86683522971517\n",
      "Average loss at step 7500 :  22.015423474774998\n",
      "Average loss at step 8000 :  21.17508084630582\n",
      "Average loss at step 8500 :  20.353206364294998\n",
      "Average loss at step 9000 :  18.719295829947754\n"
     ]
    }
   ],
   "source": [
    "num_steps = n_top_words # number of unique words\n",
    "\n",
    "# keep track of which review was last fed into the model\n",
    "review_index = 0\n",
    "# keep track of which word within review was last fed into the model\n",
    "word_index = 0\n",
    "\n",
    "with tf.Session(graph=graph) as sess:\n",
    "    \n",
    "    sess.run(init)\n",
    "    print('Initialized')\n",
    "    \n",
    "    average_loss = 0\n",
    "    \n",
    "    for step in range(num_steps):\n",
    "        batch_inputs, batch_labels = generate_batch(documents_mapped, batch_size, num_skips, skip_window)\n",
    "        feed_dict = {train_inputs: batch_inputs, train_labels: batch_labels}\n",
    "    \n",
    "        _, loss_val = sess.run(\n",
    "            [optimizer, \n",
    "             loss], \n",
    "            feed_dict=feed_dict)\n",
    "        \n",
    "        average_loss += loss_val\n",
    "            \n",
    "        if step % 500 == 0:\n",
    "            if step > 0:\n",
    "                average_loss /= 500\n",
    "                \n",
    "            print('Average loss at step', step, ': ', average_loss)\n",
    "\n",
    "    save_path = saver.save(sess, 'word2vec/model.ckpt')"
   ]
  },
  {
   "cell_type": "markdown",
   "metadata": {},
   "source": [
    "The purpose of the word vectorization is to use the word vectors in our wine review score predictor model. We saved the word vectors locally, so that we can load it into our model. Since we are working in a notebook, saving and reloading the weights is a bit unnecessary, but in an production environment, for example, this will be necessary."
   ]
  },
  {
   "cell_type": "code",
   "execution_count": 26,
   "metadata": {},
   "outputs": [
    {
     "name": "stdout",
     "output_type": "stream",
     "text": [
      "INFO:tensorflow:Restoring parameters from word2vec/model.ckpt\n",
      "[[ 0.0234783   0.00386436 -0.01480301 ... -0.03477198 -0.00869954\n",
      "   0.05670115]\n",
      " [-0.03837175  0.01981603  0.03930502 ...  0.00614939 -0.04892882\n",
      "   0.06731064]\n",
      " [-0.04669532  0.04945097 -0.02884576 ... -0.05202392  0.00835831\n",
      "  -0.01996234]\n",
      " ...\n",
      " [-0.00488691  0.07161693 -0.06281679 ...  0.00966815 -0.03251301\n",
      "  -0.02472919]\n",
      " [-0.0465223   0.01822885 -0.03933747 ...  0.03697189  0.06646887\n",
      "   0.06860228]\n",
      " [ 0.01517054 -0.05018142 -0.05115461 ... -0.0367532   0.01013509\n",
      "  -0.00688466]]\n"
     ]
    }
   ],
   "source": [
    "tf.reset_default_graph()\n",
    "\n",
    "word_embeddings = tf.get_variable('word_embeddings', shape=[vocabulary_size, embedding_size])\n",
    "\n",
    "saver = tf.train.Saver()\n",
    "\n",
    "with tf.Session() as sess:\n",
    "    saver.restore(sess, 'word2vec/model.ckpt')\n",
    "    word_embeddings = word_embeddings.eval()\n",
    "    \n",
    "print(word_embeddings)"
   ]
  },
  {
   "cell_type": "markdown",
   "metadata": {},
   "source": [
    "It's fun to visualize word embeddings. t-SNE can be used to reduce our word vectors to 2 principal components. This way we can get a sense of how our words relate to each other.\n",
    "\n",
    "Bear in mind that word stemming have been applied to these words.\n",
    "\n",
    "Also, we are only visualizing a handful of words to prevent clutter."
   ]
  },
  {
   "cell_type": "code",
   "execution_count": 60,
   "metadata": {},
   "outputs": [
    {
     "data": {
      "image/png": "[encoded data removed]",
      "text/plain": [
       "<matplotlib.figure.Figure at 0x7f90008c3f98>"
      ]
     },
     "metadata": {},
     "output_type": "display_data"
    }
   ],
   "source": [
    "tsne = TSNE(perplexity=30, n_components=2, init='pca', n_iter=5000, method='exact')\n",
    "plot_only = 100\n",
    "label_ids = list()\n",
    "labels = list()\n",
    "\n",
    "count = 0\n",
    "for i, j in vocabulary_map_table.items():\n",
    "    labels.append(i)\n",
    "    label_ids.append(j)\n",
    "    count += 1\n",
    "    \n",
    "    if count >= 100:\n",
    "        break\n",
    "        \n",
    "low_dim_embs = tsne.fit_transform(word_embeddings[label_ids])\n",
    "\n",
    "plt.figure(figsize=(18, 18))\n",
    "for i, label in enumerate(labels):\n",
    "        x, y = low_dim_embs[i, :]\n",
    "        plt.scatter(x, y, c='b')\n",
    "        plt.annotate(label, xy=(x, y), xytext=(5, 2),\n",
    "            textcoords='offset points',\n",
    "            ha='right',\n",
    "            va='bottom')\n",
    "\n",
    "plt.show()"
   ]
  },
  {
   "cell_type": "code",
   "execution_count": 61,
   "metadata": {},
   "outputs": [],
   "source": [
    "assert word_embeddings.shape[0] == len(vocabulary)"
   ]
  },
  {
   "cell_type": "markdown",
   "metadata": {},
   "source": [
    "## LSTM\n",
    "\n",
    "Now we can build our model that will predict the review score / points.\n",
    "\n",
    "First we need to decide how long the sequences should be that are fed into our model.\n",
    "\n",
    "After removing stop words, our reivews have shortened quite a bit in length."
   ]
  },
  {
   "cell_type": "code",
   "execution_count": 28,
   "metadata": {},
   "outputs": [
    {
     "name": "stdout",
     "output_type": "stream",
     "text": [
      "Longest review has 83 words (without stop words)\n",
      "On average review has 25 words (without stop words)\n",
      "95 percent quantile review number of words (without stop words): 38\n"
     ]
    }
   ],
   "source": [
    "print(\"Longest review has %d words (without stop words)\" % data.description.apply(len).max())\n",
    "print(\"On average review has %d words (without stop words)\" % data.description.apply(len).mean())\n",
    "\n",
    "# restrict review length\n",
    "print(\"95 percent quantile review number of words (without stop words): %d\" % data.description.apply(len).quantile(0.95))"
   ]
  },
  {
   "cell_type": "markdown",
   "metadata": {},
   "source": [
    "It seems reasonable to limit the input sequence length to 38 words per review. There aren't a lot of reviews with more words than this.\n",
    "\n",
    "We will pad the reviews with zeros that do not have 38 words.\n",
    "\n",
    "The reviews that have more than 38 words, we will cut off at 38 words."
   ]
  },
  {
   "cell_type": "code",
   "execution_count": 29,
   "metadata": {},
   "outputs": [],
   "source": [
    "max_review_length =  int(data.description.apply(len).quantile(0.95))"
   ]
  },
  {
   "cell_type": "markdown",
   "metadata": {},
   "source": [
    "As with our word embeddings model, we need to feed in batches to our LSTM model.\n",
    "\n",
    "Each sample within a batch will represent a review in terms of a sequence of words.\n",
    "\n",
    "During training we want to feed in smallish batches and cycle through our reviews within our training data.\n",
    "\n",
    "We are also creating a validation dataset. The test batch function helps us to get our validation set into the correct shape. However, we keep our validation dataset constant when comparing it to our training scores."
   ]
  },
  {
   "cell_type": "code",
   "execution_count": 30,
   "metadata": {},
   "outputs": [],
   "source": [
    "train_index = 0\n",
    "\n",
    "def generate_train_batch(documents_mapped, output, batch_size):\n",
    "    \n",
    "    global train_index\n",
    "    \n",
    "    # pad with zeros if necessary\n",
    "    batch = np.zeros(shape=(batch_size, max_review_length), dtype=np.int32)\n",
    "    labels = np.ndarray(shape=(batch_size, 1), dtype=np.int32)\n",
    "    \n",
    "    for i in range(batch_size):\n",
    "        seq_len = min(len(documents_mapped[train_index]), max_review_length)\n",
    "        batch[i, :seq_len] = documents_mapped[train_index][:seq_len]\n",
    "        labels[i] = output[train_index]\n",
    "        train_index += 1\n",
    "        \n",
    "        if train_index >= len(documents_mapped):\n",
    "            train_index = 0\n",
    "            \n",
    "    return batch, labels\n",
    "\n",
    "\n",
    "def generate_test_batch(documents_mapped, output):\n",
    "\n",
    "    batch_size = len(output)\n",
    "    \n",
    "    batch = np.zeros(shape=(batch_size, max_review_length), dtype=np.int32)\n",
    "    labels = np.ndarray(shape=(batch_size, 1), dtype=np.int32)\n",
    "    \n",
    "    for i in range(batch_size):\n",
    "        seq_len = min(len(documents_mapped[i]), max_review_length)\n",
    "        batch[i, :seq_len] = documents_mapped[i][:seq_len]\n",
    "        labels[i] = output[i]\n",
    "            \n",
    "    return batch, labels"
   ]
  },
  {
   "cell_type": "markdown",
   "metadata": {},
   "source": [
    "We need to split our reviews into two independent data subsets. One for training batches and one as a validation dataset."
   ]
  },
  {
   "cell_type": "code",
   "execution_count": 31,
   "metadata": {},
   "outputs": [],
   "source": [
    "documents_mapped_train, documents_mapped_validate, points_train, points_validate = train_test_split(\n",
    "    documents_mapped, \n",
    "    data.points.values, \n",
    "    test_size=0.2, \n",
    "    random_state=1234)"
   ]
  },
  {
   "cell_type": "markdown",
   "metadata": {},
   "source": [
    "Now we get our validation data into the correct shape."
   ]
  },
  {
   "cell_type": "code",
   "execution_count": 32,
   "metadata": {},
   "outputs": [],
   "source": [
    "validation_X, validation_y = generate_test_batch(documents_mapped_validate, points_validate)"
   ]
  },
  {
   "cell_type": "markdown",
   "metadata": {},
   "source": [
    "There are a number of parameters we need to specify for our LSTM:\n",
    "\n",
    "* Batch size: Size of batches using during training.\n",
    "\n",
    "* Number of hidden units: Number of hidden LSTM units within an LSTM cell. These units remember the important long-term items in a sequence.\n",
    "\n",
    "* Learning Rate: Controls the rate at which weights are adjusted. A high learning rate can prevent getting stuck in a local minima, while a low learning rate can prevent bouncing all over the place. This is an important parameter to tune."
   ]
  },
  {
   "cell_type": "code",
   "execution_count": 33,
   "metadata": {},
   "outputs": [],
   "source": [
    "batch_size = 24\n",
    "h_units = 12\n",
    "learning_rate = 0.05"
   ]
  },
  {
   "cell_type": "markdown",
   "metadata": {},
   "source": [
    "Below follows our graph.\n",
    "\n",
    "A review gets fed in in terms of word IDs as originally mapped out. Then it gets represented as word embeddings as determined with our Word2Vec model. These word vector values can be changed slightly, but the Word2Vec word embeddings help a lot with finding an appropriate starting position.\n",
    "\n",
    "Then we enter the LSTM cell which tries to capture the overall feeling of the review.\n",
    "\n",
    "We apply a small drop out for in case we have units that are resulting in model overfitting.\n",
    "\n",
    "The last unit of the LSTM cell is then fed into a linear regression model (weights and biases) which attemps to map the review score/points function.\n",
    "\n",
    "The output of the linear model is the predicted score of the review.\n",
    "\n",
    "Mean squared error is used as our loss function, since this is a regression problem.\n",
    "\n",
    "Stochastic Gradient Descent is used to optimize the model weights."
   ]
  },
  {
   "cell_type": "code",
   "execution_count": 35,
   "metadata": {},
   "outputs": [],
   "source": [
    "graph = tf.Graph()\n",
    "\n",
    "with graph.as_default():\n",
    "    \n",
    "    # input data\n",
    "    with tf.name_scope('inputs'):\n",
    "        train_inputs = tf.placeholder(tf.int32, shape=[batch_size, max_review_length]) # review\n",
    "        train_labels = tf.placeholder(tf.int32, shape=[batch_size, 1]) # review points (predict)\n",
    "        validation_inputs = tf.constant(validation_X)\n",
    "        validation_labels = tf.constant(validation_y)\n",
    "        \n",
    "    with tf.name_scope('embeddings'):\n",
    "        # embedding weights\n",
    "        embeddings = tf.Variable(word_embeddings)\n",
    "        embed = tf.nn.embedding_lookup(embeddings, train_inputs)\n",
    "    \n",
    "    with tf.name_scope('LSTM_1'):\n",
    "        lstmCell = tf.nn.rnn_cell.LSTMCell(h_units)\n",
    "        # drop out\n",
    "        lstmCell = tf.contrib.rnn.DropoutWrapper(cell=lstmCell, output_keep_prob=0.9)\n",
    "        # unroll\n",
    "        value, _ = tf.nn.dynamic_rnn(lstmCell, embed, dtype=tf.float32)\n",
    "    \n",
    "    # output layer weights\n",
    "    with tf.name_scope('weights'):\n",
    "        output_weights = tf.Variable(tf.truncated_normal([h_units, 1],\n",
    "                      stddev=1.0))\n",
    "    # output layers biases\n",
    "    with tf.name_scope('bias'):\n",
    "        output_bias = tf.Variable(tf.zeros([1]))\n",
    "        \n",
    "    value = tf.transpose(value, [1, 0, 2])\n",
    "    last = tf.gather(value, int(value.get_shape()[0]) - 1)\n",
    "    \n",
    "    predictions = tf.add(tf.matmul(last, output_weights), output_bias)\n",
    "    \n",
    "    # validation\n",
    "    validation_embed = tf.nn.embedding_lookup(embeddings, validation_inputs)\n",
    "    validation_value, _ = tf.nn.dynamic_rnn(lstmCell, \n",
    "                                               validation_embed, \n",
    "                                               dtype=tf.float32)\n",
    "    validation_value = tf.transpose(validation_value, [1, 0, 2])\n",
    "    validation_last = tf.gather(validation_value, int(validation_value.get_shape()[0]) - 1)\n",
    "    validation_predictions = tf.add(tf.matmul(validation_last, output_weights), output_bias)\n",
    "    \n",
    "    # MSE since linear output\n",
    "    with tf.name_scope('loss'):\n",
    "        loss = tf.losses.mean_squared_error(\n",
    "            labels=train_labels, \n",
    "            predictions=predictions)\n",
    "        \n",
    "        validation_loss = tf.losses.mean_squared_error(\n",
    "            labels=validation_labels, \n",
    "            predictions=validation_predictions)\n",
    "    \n",
    "    # SGD - minimize loss on train data (see loss above)\n",
    "    with tf.name_scope('optimizer'):\n",
    "        optimizer = tf.train.GradientDescentOptimizer(learning_rate).minimize(loss)\n",
    "    \n",
    "    # init variables\n",
    "    init = tf.global_variables_initializer()\n",
    "    \n",
    "    # saver\n",
    "    saver = tf.train.Saver()"
   ]
  },
  {
   "cell_type": "markdown",
   "metadata": {},
   "source": [
    "Now we can train our model.\n",
    "\n",
    "We perform 2 epochs, which means we are using the training data twice. This is another parameter that can be tuned. From the results in seems as if we might be able to increase the number of iteration steps even more.\n",
    "\n",
    "Other parameters, such as learning rate, dimensionality of word embeddings, training batch size, number of hidden units all play a role in the accuracy of the model. These can be tuned given more time."
   ]
  },
  {
   "cell_type": "code",
   "execution_count": 36,
   "metadata": {},
   "outputs": [
    {
     "name": "stdout",
     "output_type": "stream",
     "text": [
      "Initialized\n",
      "Training loss at step 2000 :  30.45003118376801\n",
      "Validation loss at step 2000 :  10.472316\n",
      "Training loss at step 4000 :  10.341199904188759\n",
      "Validation loss at step 4000 :  10.039388\n",
      "Training loss at step 6000 :  10.035218977439648\n",
      "Validation loss at step 6000 :  9.698964\n",
      "Training loss at step 8000 :  9.95903953404977\n",
      "Validation loss at step 8000 :  10.202034\n",
      "Training loss at step 10000 :  10.007007027077472\n",
      "Validation loss at step 10000 :  9.605611\n"
     ]
    }
   ],
   "source": [
    "num_steps = 2 * len(points_train) // batch_size\n",
    "\n",
    "tf.reset_default_graph()\n",
    "\n",
    "with tf.Session(graph=graph) as sess:\n",
    "\n",
    "    sess.run(init)\n",
    "    print('Initialized')\n",
    "    \n",
    "    average_loss = 0\n",
    "    \n",
    "    for step in range(num_steps):\n",
    "        batch_inputs, batch_labels = generate_train_batch(documents_mapped_train, points_train, batch_size)\n",
    "        feed_dict = {train_inputs: batch_inputs, train_labels: batch_labels}\n",
    "        \n",
    "        _, loss_val = sess.run(\n",
    "            [optimizer, loss], \n",
    "            feed_dict=feed_dict\n",
    "        )\n",
    "        \n",
    "        average_loss += loss_val\n",
    "            \n",
    "        if step % 2000 == 0:\n",
    "            if step > 0:\n",
    "                average_loss = average_loss / 2001\n",
    "                \n",
    "                print('Training loss at step', step, ': ', average_loss)\n",
    "                print('Validation loss at step', step, ': ', validation_loss.eval())\n",
    "\n",
    "                average_loss = 0\n",
    "\n",
    "    save_path = saver.save(sess, 'lstm/model.ckpt')"
   ]
  },
  {
   "cell_type": "code",
   "execution_count": 37,
   "metadata": {},
   "outputs": [
    {
     "name": "stdout",
     "output_type": "stream",
     "text": [
      "Thus, on average validation wine review point prediction is out by 3.10\n"
     ]
    }
   ],
   "source": [
    "print('Thus, on average validation wine review point prediction is out by %.2f' % 9.6**0.5)"
   ]
  },
  {
   "cell_type": "markdown",
   "metadata": {},
   "source": [
    "That will have to do for now :)"
   ]
  }
 ],
 "metadata": {
  "kernelspec": {
   "display_name": "Python 3",
   "language": "python",
   "name": "python3"
  },
  "language_info": {
   "codemirror_mode": {
    "name": "ipython",
    "version": 3
   },
   "file_extension": ".py",
   "mimetype": "text/x-python",
   "name": "python",
   "nbconvert_exporter": "python",
   "pygments_lexer": "ipython3",
   "version": "3.6.4"
  }
 },
 "nbformat": 4,
 "nbformat_minor": 2
}
